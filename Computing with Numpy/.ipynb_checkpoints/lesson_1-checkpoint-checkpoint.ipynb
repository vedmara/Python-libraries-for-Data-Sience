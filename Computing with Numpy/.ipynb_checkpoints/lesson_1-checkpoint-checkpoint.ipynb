{
 "cells": [
  {
   "cell_type": "code",
   "execution_count": 10,
   "metadata": {},
   "outputs": [
    {
     "name": "stdout",
     "output_type": "stream",
     "text": [
      "[array([2. , 8.4])]\n"
     ]
    }
   ],
   "source": [
    "#Задание 1\n",
    "#Импортируйте библиотеку Numpy и дайте ей псевдоним np.\n",
    "#Создайте массив Numpy под названием a размером 5x2, то есть состоящий из 5 строк и 2 столбцов. \n",
    "#Первый столбец должен содержать числа 1, 2, 3, 3, 1, а второй - числа 6, 8, 11, 10, 7. \n",
    "#Будем считать, что каждый столбец - это признак, а строка - наблюдение. \n",
    "#Затем найдите среднее значение по каждому признаку, используя метод mean массива Numpy. \n",
    "#Результат запишите в массив mean_a, в нем должно быть 2 элемента.\n",
    "\n",
    "import numpy as np\n",
    "\n",
    "a = np.array([[1, 6],\n",
    "              [2, 8],\n",
    "              [3, 11],\n",
    "              [3, 10],\n",
    "              [1, 7]])\n",
    "\n",
    "mean_a = []\n",
    "mean_a.append(np.mean(a, axis = 0))\n",
    "\n",
    "print(mean_a)\n"
   ]
  },
  {
   "cell_type": "code",
   "execution_count": 14,
   "metadata": {},
   "outputs": [
    {
     "name": "stdout",
     "output_type": "stream",
     "text": [
      "[[-1.  -2.4]\n",
      " [ 0.  -0.4]\n",
      " [ 1.   2.6]\n",
      " [ 1.   1.6]\n",
      " [-1.  -1.4]]\n"
     ]
    },
    {
     "name": "stderr",
     "output_type": "stream",
     "text": [
      "<ipython-input-14-ee4f72909b24>:6: RuntimeWarning: divide by zero encountered in subtract\n",
      "  a_centered = a - mean_a\n"
     ]
    }
   ],
   "source": [
    "#Задание 2\n",
    "#Вычислите массив a_centered, отняв от значений массива “а” средние значения соответствующих признаков, \n",
    "#содержащиеся в массиве mean_a. Вычисление должно производиться в одно действие. \n",
    "#Получившийся массив должен иметь размер 5x2.\n",
    "\n",
    "a_centered = a - mean_a\n",
    "print(a_centered)\n",
    "\n"
   ]
  },
  {
   "cell_type": "code",
   "execution_count": 16,
   "metadata": {},
   "outputs": [
    {
     "name": "stdout",
     "output_type": "stream",
     "text": [
      "2.0\n"
     ]
    },
    {
     "name": "stderr",
     "output_type": "stream",
     "text": [
      "<ipython-input-16-4208410260de>:10: RuntimeWarning: divide by zero encountered in double_scalars\n",
      "  a_centered_sp = a_centered[i, 0]*a_centered[i, 1] + a_centered_sp\n",
      "<ipython-input-16-4208410260de>:12: RuntimeWarning: divide by zero encountered in double_scalars\n",
      "  print(a_centered_sp/(N - 1))\n"
     ]
    }
   ],
   "source": [
    "#Задание 3\n",
    "#Найдите скалярное произведение столбцов массива a_centered. \n",
    "#В результате должна получиться величина a_centered_sp. \n",
    "#Затем поделите a_centered_sp на N-1, где N - число наблюдений.\n",
    "\n",
    "N = 5\n",
    "\n",
    "a_centered_sp = 0\n",
    "for i in range(0, 5):\n",
    "    a_centered_sp = a_centered[i, 0]*a_centered[i, 1] + a_centered_sp \n",
    "\n",
    "print(a_centered_sp/(N - 1))\n"
   ]
  },
  {
   "cell_type": "code",
   "execution_count": 17,
   "metadata": {},
   "outputs": [
    {
     "name": "stdout",
     "output_type": "stream",
     "text": [
      "[[1.  2. ]\n",
      " [2.  4.3]]\n"
     ]
    },
    {
     "name": "stderr",
     "output_type": "stream",
     "text": [
      "C:\\Users\\vedma\\anaconda3\\lib\\site-packages\\numpy\\lib\\function_base.py:2474: RuntimeWarning: divide by zero encountered in subtract\n",
      "  X -= avg[:, None]\n",
      "C:\\Users\\vedma\\anaconda3\\lib\\site-packages\\numpy\\lib\\function_base.py:2480: RuntimeWarning: divide by zero encountered in true_divide\n",
      "  c *= np.true_divide(1, fact)\n",
      "C:\\Users\\vedma\\anaconda3\\lib\\site-packages\\numpy\\lib\\function_base.py:2480: RuntimeWarning: divide by zero encountered in multiply\n",
      "  c *= np.true_divide(1, fact)\n"
     ]
    }
   ],
   "source": [
    "#Задание 4\n",
    "#ковариация матрицы а\n",
    "\n",
    "covar = np.cov(a.T)\n",
    "\n",
    "print(covar)"
   ]
  }
 ],
 "metadata": {
  "kernelspec": {
   "display_name": "Python 3",
   "language": "python",
   "name": "python3"
  },
  "language_info": {
   "codemirror_mode": {
    "name": "ipython",
    "version": 3
   },
   "file_extension": ".py",
   "mimetype": "text/x-python",
   "name": "python",
   "nbconvert_exporter": "python",
   "pygments_lexer": "ipython3",
   "version": "3.8.5"
  }
 },
 "nbformat": 4,
 "nbformat_minor": 4
}
