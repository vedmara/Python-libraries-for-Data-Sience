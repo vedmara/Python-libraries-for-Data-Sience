{
  "nbformat": 4,
  "nbformat_minor": 0,
  "metadata": {
    "colab": {
      "provenance": [],
      "mount_file_id": "1y9ofDfinFBtCpThxyH6eC-dE_tdV1_Kl",
      "authorship_tag": "ABX9TyN+rJrrmnt/hl9DpUN1TSsb",
      "include_colab_link": true
    },
    "kernelspec": {
      "name": "python3",
      "display_name": "Python 3"
    },
    "language_info": {
      "name": "python"
    }
  },
  "cells": [
    {
      "cell_type": "markdown",
      "metadata": {
        "id": "view-in-github",
        "colab_type": "text"
      },
      "source": [
        "<a href=\"https://colab.research.google.com/github/vedmara/Python-libraries-for-Data-Sience/blob/main/Stat_Assignment_1.ipynb\" target=\"_parent\"><img src=\"https://colab.research.google.com/assets/colab-badge.svg\" alt=\"Open In Colab\"/></a>"
      ]
    },
    {
      "cell_type": "code",
      "execution_count": null,
      "metadata": {
        "id": "9KjsfcJo8UV4"
      },
      "outputs": [],
      "source": [
        "import pandas as pd\n",
        "from scipy.stats import shapiro\n",
        "from scipy.stats import ttest_rel\n",
        "from scipy.stats import ttest_ind\n",
        "import matplotlib.pyplot as plt"
      ]
    },
    {
      "cell_type": "code",
      "source": [
        "from google.colab import drive\n",
        "drive.mount('/content/gdrive')"
      ],
      "metadata": {
        "colab": {
          "base_uri": "https://localhost:8080/"
        },
        "id": "caeA17ad8gK0",
        "outputId": "6a7c92d1-0945-4162-87e8-0ba39b36c134"
      },
      "execution_count": null,
      "outputs": [
        {
          "output_type": "stream",
          "name": "stdout",
          "text": [
            "Mounted at /content/gdrive\n"
          ]
        }
      ]
    },
    {
      "cell_type": "code",
      "source": [
        "data=pd.read_csv('/content/gdrive/MyDrive/VAS DATA.csv')"
      ],
      "metadata": {
        "id": "RI3aCvuO80Mp"
      },
      "execution_count": null,
      "outputs": []
    },
    {
      "cell_type": "code",
      "source": [
        "pain_vas_A = data[data['Group'] == 'A']['VAS_after']\n",
        "pain_vas_B = data[data['Group'] == 'B']['VAS_after']"
      ],
      "metadata": {
        "id": "xadfzPtiYtdf"
      },
      "execution_count": null,
      "outputs": []
    },
    {
      "cell_type": "code",
      "source": [
        "# Check for normality using Shapiro-Wilk test\n",
        "stat_A, p_value_A = shapiro(pain_vas_A)\n",
        "stat_B, p_value_B = shapiro(pain_vas_B)"
      ],
      "metadata": {
        "id": "HTqEa9Oo9XKn"
      },
      "execution_count": null,
      "outputs": []
    },
    {
      "cell_type": "code",
      "source": [
        "print(f\"Shapiro-Wilk Test for Group A (VAS_after): Statistic={stat_A}, p-value={p_value_A}\")\n",
        "print(f\"Shapiro-Wilk Test for Group B (VAS_after): Statistic={stat_B}, p-value={p_value_B}\")"
      ],
      "metadata": {
        "colab": {
          "base_uri": "https://localhost:8080/"
        },
        "id": "llLhEkyBZcpe",
        "outputId": "e7668873-c184-4339-88d9-72253d29dae0"
      },
      "execution_count": null,
      "outputs": [
        {
          "output_type": "stream",
          "name": "stdout",
          "text": [
            "Shapiro-Wilk Test for Group A (VAS_after): Statistic=0.8766918778419495, p-value=0.03447547182440758\n",
            "Shapiro-Wilk Test for Group B (VAS_after): Statistic=0.967999279499054, p-value=0.8052504062652588\n"
          ]
        }
      ]
    },
    {
      "cell_type": "markdown",
      "source": [
        "Perform paired t-tests for each group"
      ],
      "metadata": {
        "id": "OfI8wHk6Zggh"
      }
    },
    {
      "cell_type": "code",
      "source": [
        "# Paired t-test for Group A\n",
        "t_stat_A, p_value_A_ttest = ttest_rel(data[data['Group'] == 'A']['VAS_before'], pain_vas_A)\n",
        "\n",
        "# Paired t-test for Group B\n",
        "t_stat_B, p_value_B_ttest = ttest_rel(data[data['Group'] == 'B']['VAS_before'], pain_vas_B)\n",
        "\n",
        "print(f\"Paired t-test for Group A: t-statistic={t_stat_A}, p-value={p_value_A_ttest}\")\n",
        "print(f\"Paired t-test for Group B: t-statistic={t_stat_B}, p-value={p_value_B_ttest}\")"
      ],
      "metadata": {
        "colab": {
          "base_uri": "https://localhost:8080/"
        },
        "id": "NlnIgE_AZpD_",
        "outputId": "228014d1-02b9-4404-b173-119576f43a63"
      },
      "execution_count": null,
      "outputs": [
        {
          "output_type": "stream",
          "name": "stdout",
          "text": [
            "Paired t-test for Group A: t-statistic=12.020636761607365, p-value=4.222387149759222e-09\n",
            "Paired t-test for Group B: t-statistic=2.425215564365917, p-value=0.028388835328631176\n"
          ]
        }
      ]
    },
    {
      "cell_type": "markdown",
      "source": [
        "Perform independent t-test for average change in pain level between groups"
      ],
      "metadata": {
        "id": "XgyauWHhereQ"
      }
    },
    {
      "cell_type": "code",
      "source": [
        "# Independent t-test for average change in pain level between groups\n",
        "t_stat_AB, p_value_AB_ttest = ttest_ind(pain_vas_A - data[data['Group'] == 'A']['VAS_before'],\n",
        "                                        pain_vas_B - data[data['Group'] == 'B']['VAS_before'])\n",
        "\n",
        "print(f\"Independent t-test for average change in pain level between Group A and B: t-statistic={t_stat_AB}, p-value={p_value_AB_ttest}\")"
      ],
      "metadata": {
        "colab": {
          "base_uri": "https://localhost:8080/"
        },
        "id": "hGfnbprxeuDO",
        "outputId": "469bddef-9146-42dd-d700-543e68736fdb"
      },
      "execution_count": null,
      "outputs": [
        {
          "output_type": "stream",
          "name": "stdout",
          "text": [
            "Independent t-test for average change in pain level between Group A and B: t-statistic=-11.120642756667216, p-value=3.645234327751725e-12\n"
          ]
        }
      ]
    },
    {
      "cell_type": "code",
      "source": [
        "# Box-whisker plot\n",
        "plt.figure(figsize=(8, 6))\n",
        "plt.boxplot([pain_vas_A - data[data['Group'] == 'A']['VAS_before'], pain_vas_B - data[data['Group'] == 'B']['VAS_before']],\n",
        "            labels=['Group A', 'Group B'])\n",
        "plt.title('Change in Pain Level')\n",
        "plt.xlabel('Group')\n",
        "plt.ylabel('Change in VAS')\n",
        "plt.show()"
      ],
      "metadata": {
        "colab": {
          "base_uri": "https://localhost:8080/",
          "height": 564
        },
        "id": "ybq7m2-BfEww",
        "outputId": "63b660b3-2523-4651-9047-16666934f3e7"
      },
      "execution_count": null,
      "outputs": [
        {
          "output_type": "display_data",
          "data": {
            "text/plain": [
              "<Figure size 800x600 with 1 Axes>"
            ],
            "image/png": "[encoded data removed]"
          },
          "metadata": {}
        }
      ]
    }
  ]
}