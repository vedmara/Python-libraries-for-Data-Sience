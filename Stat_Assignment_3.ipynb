{
  "nbformat": 4,
  "nbformat_minor": 0,
  "metadata": {
    "colab": {
      "provenance": [],
      "mount_file_id": "1KNbHsuNjOtP7w0idnT66d3uF4yDmMmcB",
      "authorship_tag": "ABX9TyM+hM+Oe4wqV2OOqvJK51pf",
      "include_colab_link": true
    },
    "kernelspec": {
      "name": "python3",
      "display_name": "Python 3"
    },
    "language_info": {
      "name": "python"
    }
  },
  "cells": [
    {
      "cell_type": "markdown",
      "metadata": {
        "id": "view-in-github",
        "colab_type": "text"
      },
      "source": [
        "<a href=\"https://colab.research.google.com/github/vedmara/Python-libraries-for-Data-Sience/blob/main/Stat_Assignment_3.ipynb\" target=\"_parent\"><img src=\"https://colab.research.google.com/assets/colab-badge.svg\" alt=\"Open In Colab\"/></a>"
      ]
    },
    {
      "cell_type": "markdown",
      "source": [
        "BACKGROUND: In a randomized control trial, 32 patients were divided into two groups: A and B. Group A received test drug whereas group B received placebo. The variable of interest was Numerical Pain Rating Scale (NPRS) before treatment and after 3 days of treatment. (Higher number indicates more pain)\n",
        "\n",
        "QUESTIONS- 1. Import NPRS DATA and name it as pain_nprs. Find median NPRS before and after treatment.\n",
        "2. Is post treatment NPRS score significantly less as compared to ‘before treatment’ NPRS score for Group A?\n",
        "3. Is post treatment NPRS score significantly less as compared to ‘before treatment’ NPRS score for Group B?\n",
        "4. Is the change in NPRS for group ‘A’ significantly different than group ‘B’? 5. Present change in NPRS for each group using box-whisker plot.\n"
      ],
      "metadata": {
        "id": "ZZ3pQrGnY3DF"
      }
    },
    {
      "cell_type": "code",
      "execution_count": 16,
      "metadata": {
        "id": "1o9Qi8GJIos-"
      },
      "outputs": [],
      "source": [
        "import pandas as pd\n",
        "from scipy.stats import wilcoxon, mannwhitneyu\n",
        "import matplotlib.pyplot as plt\n",
        "import os"
      ]
    },
    {
      "cell_type": "code",
      "source": [
        "pain_nprs=pd.read_csv('/content/drive/MyDrive/NPRS DATA.csv')"
      ],
      "metadata": {
        "id": "fZzvMdGASkfo"
      },
      "execution_count": 17,
      "outputs": []
    },
    {
      "cell_type": "code",
      "source": [
        "# 1. Find median NPRS before and after treatment.\n",
        "median_before = pain_nprs['NPRS_before'].median()\n",
        "median_after = pain_nprs['NPRS_after'].median()\n",
        "\n",
        "print(f\"Median NPRS before treatment: {median_before}\")\n",
        "print(f\"Median NPRS after treatment: {median_after}\")"
      ],
      "metadata": {
        "colab": {
          "base_uri": "https://localhost:8080/"
        },
        "id": "uw-gSxLxRzyM",
        "outputId": "ee058bc2-1da7-4333-f118-1d2f1558d2c9"
      },
      "execution_count": 18,
      "outputs": [
        {
          "output_type": "stream",
          "name": "stdout",
          "text": [
            "Median NPRS before treatment: 7.0\n",
            "Median NPRS after treatment: 5.0\n"
          ]
        }
      ]
    },
    {
      "cell_type": "code",
      "source": [
        "# 2. Is post-treatment NPRS score significantly less for Group A?\n",
        "group_a_before = pain_nprs[pain_nprs['Group'] == 'A']['NPRS_before']\n",
        "group_a_after = pain_nprs[pain_nprs['Group'] == 'A']['NPRS_after']\n",
        "\n",
        "_, p_value_group_a = wilcoxon(group_a_before, group_a_after)\n",
        "\n",
        "print(f\"P-value for Group A: {p_value_group_a}\")"
      ],
      "metadata": {
        "colab": {
          "base_uri": "https://localhost:8080/"
        },
        "id": "hsoawDrzTaIk",
        "outputId": "25e5e96d-c78c-4e1f-fc06-4374ee7fbe10"
      },
      "execution_count": 19,
      "outputs": [
        {
          "output_type": "stream",
          "name": "stdout",
          "text": [
            "P-value for Group A: 0.009567852476852799\n"
          ]
        },
        {
          "output_type": "stream",
          "name": "stderr",
          "text": [
            "/usr/local/lib/python3.10/dist-packages/scipy/stats/_morestats.py:4088: UserWarning: Exact p-value calculation does not work if there are zeros. Switching to normal approximation.\n",
            "  warnings.warn(\"Exact p-value calculation does not work if there are \"\n"
          ]
        }
      ]
    },
    {
      "cell_type": "code",
      "source": [
        "# 3. Is post-treatment NPRS score significantly less for Group B?\n",
        "group_b_before = pain_nprs[pain_nprs['Group'] == 'B']['NPRS_before']\n",
        "group_b_after = pain_nprs[pain_nprs['Group'] == 'B']['NPRS_after']\n",
        "\n",
        "_, p_value_group_b = wilcoxon(group_b_before, group_b_after)\n",
        "\n",
        "print(f\"P-value for Group B: {p_value_group_b}\")"
      ],
      "metadata": {
        "colab": {
          "base_uri": "https://localhost:8080/"
        },
        "id": "mISMDSALTl7u",
        "outputId": "09680340-d56d-482b-a21c-489a23c5354b"
      },
      "execution_count": 20,
      "outputs": [
        {
          "output_type": "stream",
          "name": "stdout",
          "text": [
            "P-value for Group B: 0.0005537177958275885\n"
          ]
        },
        {
          "output_type": "stream",
          "name": "stderr",
          "text": [
            "/usr/local/lib/python3.10/dist-packages/scipy/stats/_morestats.py:4088: UserWarning: Exact p-value calculation does not work if there are zeros. Switching to normal approximation.\n",
            "  warnings.warn(\"Exact p-value calculation does not work if there are \"\n"
          ]
        }
      ]
    },
    {
      "cell_type": "code",
      "source": [
        "# 4. Is the change in NPRS for group ‘A’ significantly different than group ‘B’?\n",
        "_, p_value_groups = mannwhitneyu(group_a_after - group_a_before, group_b_after - group_b_before)\n",
        "\n",
        "print(f\"P-value for the difference between Group A and Group B: {p_value_groups}\")\n"
      ],
      "metadata": {
        "colab": {
          "base_uri": "https://localhost:8080/"
        },
        "id": "KaCjc9HzTtrE",
        "outputId": "5dc56384-e23c-43f1-f3de-987dd0efbfbe"
      },
      "execution_count": 21,
      "outputs": [
        {
          "output_type": "stream",
          "name": "stdout",
          "text": [
            "P-value for the difference between Group A and Group B: 0.37803806569987897\n"
          ]
        }
      ]
    },
    {
      "cell_type": "code",
      "source": [
        "# 5. Present change in NPRS for each group using box-whisker plot.\n",
        "plt.figure(figsize=(8, 6))\n",
        "pain_nprs.boxplot(column=['NPRS_before', 'NPRS_after'], by='Group')\n",
        "plt.show()"
      ],
      "metadata": {
        "colab": {
          "base_uri": "https://localhost:8080/",
          "height": 497
        },
        "id": "wacw-OdaW_H1",
        "outputId": "ba67a0ae-4793-45b3-f0a6-025a8e7f9226"
      },
      "execution_count": 22,
      "outputs": [
        {
          "output_type": "display_data",
          "data": {
            "text/plain": [
              "<Figure size 800x600 with 0 Axes>"
            ]
          },
          "metadata": {}
        },
        {
          "output_type": "display_data",
          "data": {
            "text/plain": [
              "<Figure size 640x480 with 2 Axes>"
            ],
            "image/png": "[encoded data removed]"
          },
          "metadata": {}
        }
      ]
    },
    {
      "cell_type": "markdown",
      "source": [
        "To determine whether the change in NPRS for Group A is significantly different from Group B, I use the p value obtained by the Mann-Whitney U test.\n",
        "Null Hypothesis (H0): There is no difference in the change in NPRS scores between Group A and Group B.\n",
        "Alternative Hypothesis (H1): There is a significant difference in the change in NPRS scores between Group A and Group B.\n",
        "p-value = 0.378, indicating that there was no significant difference in the change in NPRS scores between the two groups.\n",
        "We see that the box-and-whisker plot gives a visual representation of this data distribution.\n",
        "I think it is necessary to increase the sample size in order to evaluate the effectiveness of the drug."
      ],
      "metadata": {
        "id": "yMPfoxjiX_Lb"
      }
    }
  ]
}